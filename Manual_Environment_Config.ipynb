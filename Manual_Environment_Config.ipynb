{
 "cells": [
  {
   "cell_type": "markdown",
   "metadata": {},
   "source": [
    "# <u>**Welcome to Skyy-Med!**</u>"
   ]
  },
  {
   "cell_type": "markdown",
   "metadata": {},
   "source": [
    "# Configure Jupyter, our environment, and install Detectron2!\n",
    "\n",
    "There are different methods to install and it can get complicated to match everything up.\n",
    "\n",
    "official documantation: https://detectron2.readthedocs.io/en/latest/tutorials/install.html\n",
    "\n",
    "How to install in docker: https://medium.com/the-owl/install-detectron2-73d9447d3652\n",
    "\n",
    "How to install in Ubuntu: https://medium.com/@muhammadtalha1726/detectron-2-installation-guide-d12f66e220bf\n",
    "\n",
    "1. Choose Python3 as the kernel for Jupyter initially (we will create a custom environment later and update this)\n",
    "\n",
    "2. Install CUDA (or in my case just make it accessible via PATH since its already installed as part of FLUXCORE)"
   ]
  },
  {
   "cell_type": "code",
   "execution_count": null,
   "metadata": {},
   "outputs": [],
   "source": [
    "#### turn this into a bash script to autoconfigure Fluxcore servers on the fly ####\n",
    "\n",
    "# verify the version of Ubuntu server is 20.04\n",
    "lsb_release -a\n",
    "\n",
    "# install the basics\n",
    "apt install pip\n",
    "apt install nano\n",
    "apt install wget\n",
    "python3 -m pip install --upgrade pip\n",
    "\n",
    "#install Jupyter notebooks webserver (requires port mappping)\n",
    "apt-get update\n",
    "pip3 install notebook\n",
    "nohup jupyter notebook --ip=0.0.0.0 --allow-root --no-browser > jupyter.log 2>&1 &\n",
    "\n",
    "#verify version of cuda is 12+ , if existing and not 12+ purge Cuda\n",
    "nvcc --version\n",
    "apt purge cuda*\n",
    "\n",
    "# install a newer version of Cuda (12.03 or similar)\n",
    "wget https://developer.download.nvidia.com/compute/cuda/repos/ubuntu2004/x86_64/cuda-keyring_1.1-1_all.deb\n",
    "dpkg -i cuda-keyring_1.1-1_all.deb\n",
    "apt-get update\n",
    "apt-get -y install cuda-toolkit-12-4\n",
    "\n",
    "# Change directory to /usr/local\n",
    "cd /usr/local\n",
    "# Add CUDA bin directory to the PATH variable in /etc/environment\n",
    "echo 'PATH=\"/usr/local/sbin:/usr/local/bin:/usr/sbin:/usr/bin:/sbin:/bin:/usr/games:/usr/local/games:/usr/local/cuda-12.4/bin\"' | tee -a /etc/environment\n",
    "# Source the /etc/environment file to apply changes immediately\n",
    "source /etc/environment # if this doesnt work the one below it will for containers\n",
    "export PATH=$PATH:/usr/local/cuda-12.4/bin\n",
    "# Check if nvcc is available by running nvcc --version\n",
    "if ! command -v nvcc &> /dev/null\n",
    "then\n",
    "    echo \"nvcc command not found. CUDA installation might be incomplete or the PATH is not properly configured.\"\n",
    "    exit 1\n",
    "fi\n",
    "nvcc --version\n",
    "cd ~\n",
    "\n",
    "# import os\n",
    "# # Add CUDA binary directory to the PATH\n",
    "# os.environ['PATH'] += ':/usr/local/cuda/bin'\n",
    "# # Add CUDA library directory to LD_LIBRARY_PATH\n",
    "# os.environ['LD_LIBRARY_PATH'] = '/usr/local/cuda/lib64'\n",
    "# # test Cuda\n",
    "# !nvcc --version\n",
    "\n",
    "# pip3 install torch torchvision torchaudio --index-url https://download.pytorch.org/whl/cu118\n",
    "pip3 install torch torchvision torchaudio\n",
    "pip install opencv-python\n",
    "pip install cython\n",
    "pip install \"git+https://github.com/philferriere/cocoapi.git#egg=pycocotools&subdirectory=PythonAPI\"\n",
    "python3 -m pip install 'git+https://github.com/facebookresearch/detectron2.git'"
   ]
  },
  {
   "cell_type": "code",
   "execution_count": null,
   "metadata": {},
   "outputs": [],
   "source": [
    "#### run these from terminal not inside Jupyter ####\n",
    "\n",
    "# check to see if Cuda is installed (there will be a cuda directory if its installed)\n",
    "cd /usr/local\n",
    "#if it exists already note the version in the files (12.3 is what I have already from FluxCore)\n",
    "# add cuda to environment variables\n",
    "sudo nano /etc/environment\n",
    "# add these lines to file\n",
    "PATH=\"/usr/local/sbin:/usr/local/bin:/usr/sbin:/usr/bin:/sbin:/bin:/usr/games:/usr/local/games:/usr/local/cuda-11.8/bin\"\n",
    "# reload environment variables (or reboot)\n",
    "source /etc/environment\n",
    "# verify it works by listing version\n",
    "nvcc --version"
   ]
  },
  {
   "cell_type": "markdown",
   "metadata": {},
   "source": [
    "3. Install miniconda (if it doesnt already exist) so we can use CONDA environments\n",
    "   \n",
    "       official documentation https://www.anaconda.com/products/distribution"
   ]
  },
  {
   "cell_type": "code",
   "execution_count": null,
   "metadata": {},
   "outputs": [],
   "source": [
    "#### Run these from terminal not inside Jupyter ####\n",
    "\n",
    "# see if miniconda is installed\n",
    "conda --version\n",
    "# if not installed install it now\n",
    "# use control + c to skip to the bottom of the agreement in FLuxedge, then type yes\n",
    "wget https://repo.anaconda.com/miniconda/Miniconda3-latest-Linux-x86_64.sh -O miniconda.sh\n",
    "bash miniconda.sh\n",
    "# activate an environment for our project\n",
    "conda create -n skyymed01 python=3.7\n",
    "conda activate skyymed01\n",
    "# add the conda kernel for Jupyter\n",
    "conda install ipykernel\n",
    "# Register the skymed01 environment as a Jupyter kernel\n",
    "python -m ipykernel install --user --name skyymed01 --display-name \"Python (skyymed01)\"\n",
    "# Restart Jupyter, then select the new skymed kernel\n",
    "jupyter notebook stop && jupyter notebook start\n",
    "# once it reloads choose the skymed kernel (top right)"
   ]
  },
  {
   "cell_type": "code",
   "execution_count": null,
   "metadata": {},
   "outputs": [],
   "source": [
    "# additional commands you may need in the future:\n",
    "\n",
    "# uninstall Jupyter kernels\n",
    "jupyter kernelspec uninstall <kernel name>\n",
    "# uninstall pytorch and clean up conda\n",
    "conda remove pytorch\n",
    "conda clean --all"
   ]
  },
  {
   "cell_type": "markdown",
   "metadata": {},
   "source": [
    "4. Test Conda and Cuda are accessible from Jupyter"
   ]
  },
  {
   "cell_type": "code",
   "execution_count": null,
   "metadata": {},
   "outputs": [],
   "source": [
    "import os\n",
    "\n",
    "# Add Conda binary directory to the PATH\n",
    "os.environ['PATH'] += ':/home/sirpoopsalot/miniconda/bin'\n",
    "\n",
    "# Add CUDA binary directory to the PATH\n",
    "os.environ['PATH'] += ':/usr/local/cuda/bin'\n",
    "\n",
    "# Add CUDA library directory to LD_LIBRARY_PATH\n",
    "os.environ['LD_LIBRARY_PATH'] = '/usr/local/cuda/lib64'\n",
    "\n",
    "# test Conda\n",
    "!conda info\n",
    "\n",
    "# test Cuda\n",
    "!nvcc --version"
   ]
  },
  {
   "cell_type": "markdown",
   "metadata": {},
   "source": [
    "5. make sure conda commands are available inside Jupyter by cheking the version"
   ]
  },
  {
   "cell_type": "code",
   "execution_count": null,
   "metadata": {},
   "outputs": [],
   "source": [
    "conda --version"
   ]
  },
  {
   "cell_type": "markdown",
   "metadata": {},
   "source": [
    "6. make sure we are working from within our new environment"
   ]
  },
  {
   "cell_type": "code",
   "execution_count": null,
   "metadata": {},
   "outputs": [],
   "source": [
    "import sys\n",
    "print(sys.executable)"
   ]
  },
  {
   "cell_type": "markdown",
   "metadata": {},
   "source": [
    "7. Install Pytorch in our conda environment using the correct cuda version in the command (this can take time, be patient for it to finish)\n",
    "\n",
    "   This install is dependant on which version of Cuda we are running and the install script changes depending\n",
    "   Watch this for future issues if the Cuda version gets upgraded!"
   ]
  },
  {
   "cell_type": "code",
   "execution_count": null,
   "metadata": {},
   "outputs": [],
   "source": [
    "#### run this from terminal not from Jupyter ####\n",
    "\n",
    "# install PyTorch\n",
    "conda install pytorch torchvision torchaudio pytorch-cuda=12.1 -c pytorch -c nvidia"
   ]
  },
  {
   "cell_type": "markdown",
   "metadata": {},
   "source": [
    "8. restart the kernel in Jupyter under the Kernel pulldown\n",
    "9. Verify Torch is available by listing the version"
   ]
  },
  {
   "cell_type": "code",
   "execution_count": null,
   "metadata": {},
   "outputs": [],
   "source": [
    "import torch\n",
    "print(torch.__version__)\n",
    "import sys\n",
    "print(sys.path)"
   ]
  },
  {
   "cell_type": "markdown",
   "metadata": {},
   "source": [
    "10. Install OpenCV"
   ]
  },
  {
   "cell_type": "code",
   "execution_count": null,
   "metadata": {},
   "outputs": [],
   "source": [
    "pip install opencv-python"
   ]
  },
  {
   "cell_type": "markdown",
   "metadata": {},
   "source": [
    "11. Install Cython"
   ]
  },
  {
   "cell_type": "code",
   "execution_count": null,
   "metadata": {},
   "outputs": [],
   "source": [
    "pip install cython"
   ]
  },
  {
   "cell_type": "markdown",
   "metadata": {},
   "source": [
    "12. Install COCO Python API"
   ]
  },
  {
   "cell_type": "code",
   "execution_count": null,
   "metadata": {},
   "outputs": [],
   "source": [
    "pip install \"git+https://github.com/philferriere/cocoapi.git#egg=pycocotools&subdirectory=PythonAPI\""
   ]
  },
  {
   "cell_type": "markdown",
   "metadata": {},
   "source": [
    "13. Install detectron2\n",
    "\n",
    "    see official documantation at https://detectron2.readthedocs.io/en/latest/tutorials/install.html"
   ]
  },
  {
   "cell_type": "code",
   "execution_count": null,
   "metadata": {},
   "outputs": [],
   "source": [
    "!python3 -m pip install 'git+https://github.com/facebookresearch/detectron2.git'"
   ]
  },
  {
   "cell_type": "markdown",
   "metadata": {},
   "source": [
    "14. Verify we have Detectron2 CUDA and Pytorch installed and accessible to Jupyter (display the versions)"
   ]
  },
  {
   "cell_type": "code",
   "execution_count": null,
   "metadata": {},
   "outputs": [],
   "source": [
    "pip install --upgrade jupyter ipywidgets"
   ]
  },
  {
   "cell_type": "markdown",
   "metadata": {},
   "source": [
    "16. verify that we have GPU processing available to our model\n",
    "\n",
    "   this will make sure our drivers and libraires are correctly set"
   ]
  },
  {
   "cell_type": "code",
   "execution_count": null,
   "metadata": {},
   "outputs": [],
   "source": [
    "import torch\n",
    "\n",
    "if torch.cuda.is_available():\n",
    "    print(\"GPU is available!\")\n",
    "else:\n",
    "    print(\"GPU is not available. Using CPU.\")"
   ]
  },
  {
   "cell_type": "markdown",
   "metadata": {},
   "source": [
    "# Trouble shooting\n",
    "Verify the user for Jupyter"
   ]
  },
  {
   "cell_type": "code",
   "execution_count": null,
   "metadata": {},
   "outputs": [],
   "source": [
    "import getpass\n",
    "\n",
    "current_user = getpass.getuser()\n",
    "print(\"Current user:\", current_user)\n"
   ]
  },
  {
   "cell_type": "markdown",
   "metadata": {},
   "source": [
    "2. show whats in PATH for Jupyter"
   ]
  },
  {
   "cell_type": "code",
   "execution_count": null,
   "metadata": {},
   "outputs": [],
   "source": [
    "!echo $PATH"
   ]
  }
 ],
 "metadata": {
  "language_info": {
   "name": "python"
  }
 },
 "nbformat": 4,
 "nbformat_minor": 2
}

{
 "cells": [
  {
   "cell_type": "markdown",
   "metadata": {},
   "source": [
    "# <u>**Welcome to Skyy-Med!**</u>"
   ]
  },
  {
   "cell_type": "markdown",
   "metadata": {},
   "source": [
    "# Configure Jupyter, our environment, and install Detectron2!\n",
    "\n",
    "There are different methods to install and it can get complicated to match everything up.\n",
    "\n",
    "official documantation: https://detectron2.readthedocs.io/en/latest/tutorials/install.html\n",
    "\n",
    "How to install in docker: https://medium.com/the-owl/install-detectron2-73d9447d3652\n",
    "\n",
    "How to install in Ubuntu: https://medium.com/@muhammadtalha1726/detectron-2-installation-guide-d12f66e220bf\n",
    "\n",
    "1. Choose Python3 as the kernel for Jupyter initially (we will create a custom environment later and update this)\n",
    "\n",
    "2. Install CUDA (or in my case just make it accessible via PATH since its already installed as part of FLUXCORE)"
   ]
  },
  {
   "cell_type": "code",
   "execution_count": null,
   "metadata": {},
   "outputs": [],
   "source": [
    "#### turn this into a bash script to autoconfigure Fluxcore servers on the fly ####\n",
    "\n",
    "# verify the version of Ubuntu server is 20.04\n",
    "lsb_release -a\n",
    "\n",
    "# install the basics\n",
    "apt install pip\n",
    "apt install nano\n",
    "apt install wget\n",
    "python3 -m pip install --upgrade pip\n",
    "\n",
    "#install Jupyter notebooks webserver (requires port mappping)\n",
    "apt-get update\n",
    "pip3 install notebook\n",
    "nohup jupyter notebook --ip=0.0.0.0 --allow-root --no-browser > jupyter.log 2>&1 &\n",
    "\n",
    "#verify version of cuda is 12+ , if existing and not 12+ purge Cuda\n",
    "nvcc --version\n",
    "apt purge cuda*\n",
    "\n",
    "# install a newer version of Cuda (12.03 or similar)\n",
    "wget https://developer.download.nvidia.com/compute/cuda/repos/ubuntu2004/x86_64/cuda-keyring_1.1-1_all.deb\n",
    "dpkg -i cuda-keyring_1.1-1_all.deb\n",
    "apt-get update\n",
    "apt-get -y install cuda-toolkit-12-4\n",
    "\n",
    "# Change directory to /usr/local\n",
    "cd /usr/local\n",
    "# Add CUDA bin directory to the PATH variable in /etc/environment\n",
    "echo 'PATH=\"/usr/local/sbin:/usr/local/bin:/usr/sbin:/usr/bin:/sbin:/bin:/usr/games:/usr/local/games:/usr/local/cuda-12.4/bin\"' | tee -a /etc/environment\n",
    "# Source the /etc/environment file to apply changes immediately\n",
    "source /etc/environment # if this doesnt work the one below it will for containers\n",
    "export PATH=$PATH:/usr/local/cuda-12.4/bin\n",
    "# Check if nvcc is available by running nvcc --version\n",
    "if ! command -v nvcc &> /dev/null\n",
    "then\n",
    "    echo \"nvcc command not found. CUDA installation might be incomplete or the PATH is not properly configured.\"\n",
    "    exit 1\n",
    "fi\n",
    "nvcc --version\n",
    "cd ~\n",
    "\n",
    "# import os\n",
    "# # Add CUDA binary directory to the PATH\n",
    "# os.environ['PATH'] += ':/usr/local/cuda/bin'\n",
    "# # Add CUDA library directory to LD_LIBRARY_PATH\n",
    "# os.environ['LD_LIBRARY_PATH'] = '/usr/local/cuda/lib64'\n",
    "# # test Cuda\n",
    "# !nvcc --version\n",
    "\n",
    "# pip3 install torch torchvision torchaudio --index-url https://download.pytorch.org/whl/cu118\n",
    "pip3 install torch torchvision torchaudio\n",
    "pip install opencv-python\n",
    "pip install cython\n",
    "pip install \"git+https://github.com/philferriere/cocoapi.git#egg=pycocotools&subdirectory=PythonAPI\"\n",
    "python3 -m pip install 'git+https://github.com/facebookresearch/detectron2.git'"
   ]
  }
 ],
 "metadata": {
  "language_info": {
   "name": "python"
  }
 },
 "nbformat": 4,
 "nbformat_minor": 2
}

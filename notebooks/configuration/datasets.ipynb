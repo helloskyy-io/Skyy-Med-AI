{
 "cells": [
  {
   "cell_type": "markdown",
   "metadata": {},
   "source": [
    "# Pulling xray data sets for Skyy-Net"
   ]
  },
  {
   "cell_type": "markdown",
   "metadata": {},
   "source": [
    "1. install requests"
   ]
  },
  {
   "cell_type": "code",
   "execution_count": null,
   "metadata": {},
   "outputs": [],
   "source": [
    "# Install the requests library using pip\n",
    "import sys\n",
    "!{sys.executable} -m pip install requests\n",
    "\n",
    "# Attempt to import the requests module\n",
    "try:\n",
    "    import requests\n",
    "    # Perform a simple GET request to test functionality\n",
    "    response = requests.get('http://example.com')\n",
    "    # Check if the response is successful\n",
    "    if response.status_code == 200:\n",
    "        print(\"The 'requests' library is installed and working correctly.\")\n",
    "    else:\n",
    "        print(\"The 'requests' library is installed but the test request failed.\")\n",
    "except ImportError:\n",
    "    print(\"The 'requests' library is not installed.\")"
   ]
  },
  {
   "cell_type": "markdown",
   "metadata": {},
   "source": [
    "2. download the files"
   ]
  },
  {
   "cell_type": "code",
   "execution_count": null,
   "metadata": {},
   "outputs": [],
   "source": [
    "import os\n",
    "import requests\n",
    "\n",
    "def download_file(url, target_path):\n",
    "    # Ensure the directory exists\n",
    "    os.makedirs(os.path.dirname(target_path), exist_ok=True)\n",
    "    \n",
    "    # Download the file\n",
    "    response = requests.get(url, stream=True)\n",
    "    response.raise_for_status()  # Check for request errors\n",
    "    \n",
    "    with open(target_path, 'wb') as f:\n",
    "        for chunk in response.iter_content(chunk_size=8192): \n",
    "            f.write(chunk)\n",
    "\n",
    "    # Simple validation: Check if file exists and is not empty\n",
    "    if os.path.exists(target_path) and os.path.getsize(target_path) > 0:\n",
    "        print(\"Download complete and file verified.\")\n",
    "    else:\n",
    "        print(\"Download failed or file is empty.\")\n",
    "\n",
    "# Usage\n",
    "download_file(\"https://cdn.pixabay.com/photo/2014/11/30/14/11/cat-551554_1280.jpg\", \"/Skyy-Net/data/xray/data.jpg\")\n",
    "\n"
   ]
  }
 ],
 "metadata": {
  "language_info": {
   "name": "python"
  }
 },
 "nbformat": 4,
 "nbformat_minor": 2
}

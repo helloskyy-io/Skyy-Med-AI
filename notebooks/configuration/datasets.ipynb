{
 "cells": [
  {
   "cell_type": "markdown",
   "metadata": {},
   "source": [
    "# Pulling xray data sets for Skyy-Net"
   ]
  },
  {
   "cell_type": "markdown",
   "metadata": {},
   "source": [
    "1. install requests"
   ]
  },
  {
   "cell_type": "code",
   "execution_count": null,
   "metadata": {},
   "outputs": [],
   "source": [
    "!pip install requests\n"
   ]
  },
  {
   "cell_type": "markdown",
   "metadata": {},
   "source": [
    "2. download the files"
   ]
  },
  {
   "cell_type": "code",
   "execution_count": null,
   "metadata": {},
   "outputs": [],
   "source": [
    "import os\n",
    "import requests\n",
    "\n",
    "def download_file(url, target_path):\n",
    "    # Download the file\n",
    "    response = requests.get(url, stream=True)\n",
    "    response.raise_for_status()  # Check for request errors\n",
    "    \n",
    "    with open(target_path, 'wb') as f:\n",
    "        for chunk in response.iter_content(chunk_size=8192): \n",
    "            f.write(chunk)\n",
    "\n",
    "    # Simple verification: Check if file exists and is not empty\n",
    "    if os.path.exists(target_path) and os.path.getsize(target_path) > 0:\n",
    "        print(\"Download complete and file verified.\")\n",
    "    else:\n",
    "        print(\"Download failed or file is empty.\")\n",
    "\n",
    "# Usage\n",
    "download_file(\"https://figshare.com/ndownloader/files/43283628\", \"/Skyy-Net/data/xray/data.zip\")\n"
   ]
  }
 ],
 "metadata": {
  "language_info": {
   "name": "python"
  }
 },
 "nbformat": 4,
 "nbformat_minor": 2
}
